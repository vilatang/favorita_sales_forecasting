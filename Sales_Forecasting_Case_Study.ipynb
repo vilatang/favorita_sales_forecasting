{
 "cells": [
  {
   "cell_type": "code",
   "execution_count": 1,
   "metadata": {},
   "outputs": [
    {
     "name": "stderr",
     "output_type": "stream",
     "text": [
      "C:\\Users\\Jenna\\Anaconda3\\lib\\site-packages\\h5py\\__init__.py:36: FutureWarning: Conversion of the second argument of issubdtype from `float` to `np.floating` is deprecated. In future, it will be treated as `np.float64 == np.dtype(float).type`.\n",
      "  from ._conv import register_converters as _register_converters\n"
     ]
    }
   ],
   "source": [
    "import pandas as pd\n",
    "import numpy as np\n",
    "import matplotlib.pyplot as plt\n",
    "\n",
    "from sklearn.preprocessing import StandardScaler\n",
    "from sklearn.metrics import mean_squared_error\n",
    "\n",
    "from sklearn.ensemble import RandomForestRegressor\n",
    "\n",
    "import lightgbm as lgb\n",
    "\n",
    "import tensorflow as tf\n",
    "from tensorflow import keras\n",
    "from tensorflow.keras.models import Sequential\n",
    "from tensorflow.keras.layers import Dense\n",
    "from tensorflow.keras.layers import Dropout\n",
    "\n",
    "import math\n",
    "\n",
    "import datetime\n",
    "from datetime import date\n",
    "from datetime import timedelta\n",
    "import time\n",
    "\n",
    "import warnings"
   ]
  },
  {
   "cell_type": "code",
   "execution_count": 2,
   "metadata": {},
   "outputs": [],
   "source": [
    "warnings.filterwarnings(\"ignore\")"
   ]
  },
  {
   "cell_type": "code",
   "execution_count": 3,
   "metadata": {},
   "outputs": [],
   "source": [
    "# DEBUG = True\n",
    "DEBUG = False"
   ]
  },
  {
   "cell_type": "markdown",
   "metadata": {},
   "source": [
    "# Data Ingestion"
   ]
  },
  {
   "cell_type": "markdown",
   "metadata": {},
   "source": [
    "### Load Training Data"
   ]
  },
  {
   "cell_type": "code",
   "execution_count": 4,
   "metadata": {},
   "outputs": [],
   "source": [
    "if not DEBUG:\n",
    "    df_train = pd.read_csv(\n",
    "        'train.csv', usecols=[1, 2, 3, 4, 5],\n",
    "        dtype={'onpromotion': bool},\n",
    "        converters={'unit_sales': lambda u: np.log1p(float(u)) if float(u) > 0 else 0},\n",
    "        parse_dates=[\"date\"],\n",
    "        skiprows=range(1, 111007527)  # Only Include 2017-01-01\n",
    "    )"
   ]
  },
  {
   "cell_type": "code",
   "execution_count": 5,
   "metadata": {},
   "outputs": [],
   "source": [
    "if DEBUG:\n",
    "    df_train = pd.read_csv('df_20170401.csv',\n",
    "                           usecols=[0, 1, 2, 3, 4],\n",
    "                           dtype={'onpromotion': bool},\n",
    "                           parse_dates=[\"date\"])"
   ]
  },
  {
   "cell_type": "markdown",
   "metadata": {},
   "source": [
    "### Load Test Data"
   ]
  },
  {
   "cell_type": "code",
   "execution_count": 6,
   "metadata": {},
   "outputs": [],
   "source": [
    "df_test = pd.read_csv(\"test.csv\", usecols=[0, 1, 2, 3, 4],\n",
    "                      dtype={'onpromotion': bool},\n",
    "                      parse_dates=[\"date\"])"
   ]
  },
  {
   "cell_type": "markdown",
   "metadata": {},
   "source": [
    "### Load Item Data "
   ]
  },
  {
   "cell_type": "code",
   "execution_count": 7,
   "metadata": {},
   "outputs": [
    {
     "data": {
      "text/html": [
       "<div>\n",
       "<style scoped>\n",
       "    .dataframe tbody tr th:only-of-type {\n",
       "        vertical-align: middle;\n",
       "    }\n",
       "\n",
       "    .dataframe tbody tr th {\n",
       "        vertical-align: top;\n",
       "    }\n",
       "\n",
       "    .dataframe thead th {\n",
       "        text-align: right;\n",
       "    }\n",
       "</style>\n",
       "<table border=\"1\" class=\"dataframe\">\n",
       "  <thead>\n",
       "    <tr style=\"text-align: right;\">\n",
       "      <th></th>\n",
       "      <th>item_nbr</th>\n",
       "      <th>family</th>\n",
       "      <th>class</th>\n",
       "      <th>perishable</th>\n",
       "    </tr>\n",
       "  </thead>\n",
       "  <tbody>\n",
       "    <tr>\n",
       "      <th>0</th>\n",
       "      <td>96995</td>\n",
       "      <td>GROCERY I</td>\n",
       "      <td>1093</td>\n",
       "      <td>0</td>\n",
       "    </tr>\n",
       "    <tr>\n",
       "      <th>1</th>\n",
       "      <td>99197</td>\n",
       "      <td>GROCERY I</td>\n",
       "      <td>1067</td>\n",
       "      <td>0</td>\n",
       "    </tr>\n",
       "    <tr>\n",
       "      <th>2</th>\n",
       "      <td>103501</td>\n",
       "      <td>CLEANING</td>\n",
       "      <td>3008</td>\n",
       "      <td>0</td>\n",
       "    </tr>\n",
       "  </tbody>\n",
       "</table>\n",
       "</div>"
      ],
      "text/plain": [
       "   item_nbr     family  class  perishable\n",
       "0     96995  GROCERY I   1093           0\n",
       "1     99197  GROCERY I   1067           0\n",
       "2    103501   CLEANING   3008           0"
      ]
     },
     "execution_count": 7,
     "metadata": {},
     "output_type": "execute_result"
    }
   ],
   "source": [
    "items = pd.read_csv(\"items.csv\")\n",
    "items.head(3)"
   ]
  },
  {
   "cell_type": "markdown",
   "metadata": {},
   "source": [
    "# Data Exploration "
   ]
  },
  {
   "cell_type": "markdown",
   "metadata": {},
   "source": [
    "### Show Number of Stores in `Train` and `Test` Data Set"
   ]
  },
  {
   "cell_type": "code",
   "execution_count": 8,
   "metadata": {},
   "outputs": [
    {
     "name": "stdout",
     "output_type": "stream",
     "text": [
      "Num of Stores in Train Data Set: 54\n",
      "Num of Stores in Test Data Set: 54\n"
     ]
    }
   ],
   "source": [
    "num_store_train = df_train['store_nbr'].drop_duplicates().shape[0]\n",
    "num_store_test = df_test['store_nbr'].drop_duplicates().shape[0]\n",
    "\n",
    "print(\"Num of Stores in Train Data Set: {}\".format(num_store_train))\n",
    "print(\"Num of Stores in Test Data Set: {}\".format(num_store_test))"
   ]
  },
  {
   "cell_type": "markdown",
   "metadata": {},
   "source": [
    "#### Show Number of Items in `Train`, `Test` and `Item` Data Set"
   ]
  },
  {
   "cell_type": "code",
   "execution_count": 9,
   "metadata": {},
   "outputs": [
    {
     "name": "stdout",
     "output_type": "stream",
     "text": [
      "Num of Items in Train Data Set: 3989\n",
      "Num of Items in Test Data Set: 3901\n",
      "Num of Items in Item Data Set: 4100\n"
     ]
    }
   ],
   "source": [
    "num_item_train = df_train['item_nbr'].drop_duplicates().shape[0]\n",
    "num_item_test = df_test['item_nbr'].drop_duplicates().shape[0]\n",
    "num_item = items['item_nbr'].drop_duplicates().shape[0]\n",
    "\n",
    "print(\"Num of Items in Train Data Set: {}\".format(num_item_train))\n",
    "print(\"Num of Items in Test Data Set: {}\".format(num_item_test))\n",
    "print(\"Num of Items in Item Data Set: {}\".format(num_item))"
   ]
  },
  {
   "cell_type": "markdown",
   "metadata": {},
   "source": [
    "#### How Many Common Items in Both Training and Test Data Set"
   ]
  },
  {
   "cell_type": "code",
   "execution_count": 10,
   "metadata": {},
   "outputs": [
    {
     "name": "stdout",
     "output_type": "stream",
     "text": [
      "Num of Common Items: 3841\n"
     ]
    }
   ],
   "source": [
    "num_common_items = len(set(df_train['item_nbr'].drop_duplicates()) & set(df_test['item_nbr'].drop_duplicates()))\n",
    "print(\"Num of Common Items: {}\".format(num_common_items))"
   ]
  },
  {
   "cell_type": "markdown",
   "metadata": {},
   "source": [
    "#### How Many Item Categories in `Item` Data"
   ]
  },
  {
   "cell_type": "code",
   "execution_count": 11,
   "metadata": {},
   "outputs": [
    {
     "name": "stdout",
     "output_type": "stream",
     "text": [
      "Num of Items Category in Item Data Set: 33\n"
     ]
    }
   ],
   "source": [
    "num_item_category = items['family'].drop_duplicates().shape[0]\n",
    "print(\"Num of Items Category in Item Data Set: {}\".format(num_item_category))"
   ]
  },
  {
   "cell_type": "markdown",
   "metadata": {},
   "source": [
    "#### Show Perishable Item Categories"
   ]
  },
  {
   "cell_type": "code",
   "execution_count": 12,
   "metadata": {},
   "outputs": [
    {
     "data": {
      "text/html": [
       "<div>\n",
       "<style scoped>\n",
       "    .dataframe tbody tr th:only-of-type {\n",
       "        vertical-align: middle;\n",
       "    }\n",
       "\n",
       "    .dataframe tbody tr th {\n",
       "        vertical-align: top;\n",
       "    }\n",
       "\n",
       "    .dataframe thead th {\n",
       "        text-align: right;\n",
       "    }\n",
       "</style>\n",
       "<table border=\"1\" class=\"dataframe\">\n",
       "  <thead>\n",
       "    <tr style=\"text-align: right;\">\n",
       "      <th></th>\n",
       "      <th>family</th>\n",
       "      <th>perishable</th>\n",
       "    </tr>\n",
       "  </thead>\n",
       "  <tbody>\n",
       "    <tr>\n",
       "      <th>4</th>\n",
       "      <td>BREAD/BAKERY</td>\n",
       "      <td>1</td>\n",
       "    </tr>\n",
       "    <tr>\n",
       "      <th>15</th>\n",
       "      <td>DELI</td>\n",
       "      <td>1</td>\n",
       "    </tr>\n",
       "    <tr>\n",
       "      <th>20</th>\n",
       "      <td>POULTRY</td>\n",
       "      <td>1</td>\n",
       "    </tr>\n",
       "    <tr>\n",
       "      <th>21</th>\n",
       "      <td>EGGS</td>\n",
       "      <td>1</td>\n",
       "    </tr>\n",
       "    <tr>\n",
       "      <th>54</th>\n",
       "      <td>DAIRY</td>\n",
       "      <td>1</td>\n",
       "    </tr>\n",
       "    <tr>\n",
       "      <th>132</th>\n",
       "      <td>MEATS</td>\n",
       "      <td>1</td>\n",
       "    </tr>\n",
       "    <tr>\n",
       "      <th>198</th>\n",
       "      <td>SEAFOOD</td>\n",
       "      <td>1</td>\n",
       "    </tr>\n",
       "    <tr>\n",
       "      <th>237</th>\n",
       "      <td>PREPARED FOODS</td>\n",
       "      <td>1</td>\n",
       "    </tr>\n",
       "    <tr>\n",
       "      <th>1709</th>\n",
       "      <td>PRODUCE</td>\n",
       "      <td>1</td>\n",
       "    </tr>\n",
       "  </tbody>\n",
       "</table>\n",
       "</div>"
      ],
      "text/plain": [
       "              family  perishable\n",
       "4       BREAD/BAKERY           1\n",
       "15              DELI           1\n",
       "20           POULTRY           1\n",
       "21              EGGS           1\n",
       "54             DAIRY           1\n",
       "132            MEATS           1\n",
       "198          SEAFOOD           1\n",
       "237   PREPARED FOODS           1\n",
       "1709         PRODUCE           1"
      ]
     },
     "execution_count": 12,
     "metadata": {},
     "output_type": "execute_result"
    }
   ],
   "source": [
    "item_category = items[['family', 'perishable']].drop_duplicates()\n",
    "item_category[item_category['perishable']==1]"
   ]
  },
  {
   "cell_type": "markdown",
   "metadata": {},
   "source": [
    "#### Show Perishable Item Categories"
   ]
  },
  {
   "cell_type": "code",
   "execution_count": 13,
   "metadata": {},
   "outputs": [],
   "source": [
    "item_category_percentage = item_category.groupby('perishable').count()\n",
    "item_category_percentage = item_category_percentage.reset_index()"
   ]
  },
  {
   "cell_type": "code",
   "execution_count": 14,
   "metadata": {},
   "outputs": [
    {
     "data": {
      "text/html": [
       "<div>\n",
       "<style scoped>\n",
       "    .dataframe tbody tr th:only-of-type {\n",
       "        vertical-align: middle;\n",
       "    }\n",
       "\n",
       "    .dataframe tbody tr th {\n",
       "        vertical-align: top;\n",
       "    }\n",
       "\n",
       "    .dataframe thead th {\n",
       "        text-align: right;\n",
       "    }\n",
       "</style>\n",
       "<table border=\"1\" class=\"dataframe\">\n",
       "  <thead>\n",
       "    <tr style=\"text-align: right;\">\n",
       "      <th></th>\n",
       "      <th>perishable</th>\n",
       "      <th>family</th>\n",
       "    </tr>\n",
       "  </thead>\n",
       "  <tbody>\n",
       "    <tr>\n",
       "      <th>0</th>\n",
       "      <td>0</td>\n",
       "      <td>24</td>\n",
       "    </tr>\n",
       "    <tr>\n",
       "      <th>1</th>\n",
       "      <td>1</td>\n",
       "      <td>9</td>\n",
       "    </tr>\n",
       "  </tbody>\n",
       "</table>\n",
       "</div>"
      ],
      "text/plain": [
       "   perishable  family\n",
       "0           0      24\n",
       "1           1       9"
      ]
     },
     "execution_count": 14,
     "metadata": {},
     "output_type": "execute_result"
    }
   ],
   "source": [
    "item_category_percentage"
   ]
  },
  {
   "cell_type": "code",
   "execution_count": 15,
   "metadata": {},
   "outputs": [],
   "source": [
    "mapper = {\n",
    "    1: 'perishable', \n",
    "    0: 'non-perishable'\n",
    "}\n",
    "\n",
    "item_category_percentage = item_category_percentage.applymap(lambda s: mapper.get(s) if s in mapper else s)"
   ]
  },
  {
   "cell_type": "code",
   "execution_count": 16,
   "metadata": {},
   "outputs": [
    {
     "data": {
      "text/html": [
       "<div>\n",
       "<style scoped>\n",
       "    .dataframe tbody tr th:only-of-type {\n",
       "        vertical-align: middle;\n",
       "    }\n",
       "\n",
       "    .dataframe tbody tr th {\n",
       "        vertical-align: top;\n",
       "    }\n",
       "\n",
       "    .dataframe thead th {\n",
       "        text-align: right;\n",
       "    }\n",
       "</style>\n",
       "<table border=\"1\" class=\"dataframe\">\n",
       "  <thead>\n",
       "    <tr style=\"text-align: right;\">\n",
       "      <th></th>\n",
       "      <th>perishable</th>\n",
       "      <th>family</th>\n",
       "    </tr>\n",
       "  </thead>\n",
       "  <tbody>\n",
       "    <tr>\n",
       "      <th>0</th>\n",
       "      <td>non-perishable</td>\n",
       "      <td>24</td>\n",
       "    </tr>\n",
       "    <tr>\n",
       "      <th>1</th>\n",
       "      <td>perishable</td>\n",
       "      <td>9</td>\n",
       "    </tr>\n",
       "  </tbody>\n",
       "</table>\n",
       "</div>"
      ],
      "text/plain": [
       "       perishable  family\n",
       "0  non-perishable      24\n",
       "1      perishable       9"
      ]
     },
     "execution_count": 16,
     "metadata": {},
     "output_type": "execute_result"
    }
   ],
   "source": [
    "item_category_percentage"
   ]
  },
  {
   "cell_type": "code",
   "execution_count": 17,
   "metadata": {},
   "outputs": [
    {
     "data": {
      "image/png": "[encoded data removed]",
      "text/plain": [
       "<Figure size 576x576 with 1 Axes>"
      ]
     },
     "metadata": {},
     "output_type": "display_data"
    }
   ],
   "source": [
    "fig, axs = plt.subplots(figsize=(8, 8))\n",
    "plt.title(\"Perishable Item Category vs Non-perishable Item Category\")\n",
    "axs.pie(item_category_percentage['family'], labels=item_category_percentage['perishable'], autopct='%1.1f%%')\n",
    "plt.show()"
   ]
  },
  {
   "cell_type": "markdown",
   "metadata": {},
   "source": [
    "#### Show Percentage of Promotions"
   ]
  },
  {
   "cell_type": "code",
   "execution_count": 18,
   "metadata": {},
   "outputs": [
    {
     "name": "stdout",
     "output_type": "stream",
     "text": [
      "Percentage of Promotions: 12.1%\n"
     ]
    }
   ],
   "source": [
    "percentage_promo = df_train[df_train['onpromotion']==True].shape[0] / df_train.shape[0]\n",
    "print(\"Percentage of Promotions: {:.1%}\".format(percentage_promo))"
   ]
  },
  {
   "cell_type": "markdown",
   "metadata": {},
   "source": [
    "# Data Wrangling"
   ]
  },
  {
   "cell_type": "markdown",
   "metadata": {},
   "source": [
    "#### Pivot the dataset so that it has dates as the columns"
   ]
  },
  {
   "cell_type": "code",
   "execution_count": 19,
   "metadata": {},
   "outputs": [],
   "source": [
    "def pivot_data (df, values, ind, col, fill_value):\n",
    "    '''\n",
    "    Parameters\n",
    "    ----------\n",
    "    value : the columns to be aggregated\n",
    "    ind : index\n",
    "    col : the existing in to be set as column\n",
    "    \n",
    "    Returns: Pivot table of df\n",
    "    '''\n",
    "    df = df.set_index(ind + col)[values].unstack(level = -1).fillna(fill_value)\n",
    "    \n",
    "    # Unstack will create multi-layer hiarachical columns, only use the level 1 column which is col\n",
    "    df.columns = df.columns.get_level_values(1)\n",
    "    \n",
    "    return df"
   ]
  },
  {
   "cell_type": "code",
   "execution_count": 20,
   "metadata": {},
   "outputs": [
    {
     "data": {
      "text/html": [
       "<div>\n",
       "<style scoped>\n",
       "    .dataframe tbody tr th:only-of-type {\n",
       "        vertical-align: middle;\n",
       "    }\n",
       "\n",
       "    .dataframe tbody tr th {\n",
       "        vertical-align: top;\n",
       "    }\n",
       "\n",
       "    .dataframe thead th {\n",
       "        text-align: right;\n",
       "    }\n",
       "</style>\n",
       "<table border=\"1\" class=\"dataframe\">\n",
       "  <thead>\n",
       "    <tr style=\"text-align: right;\">\n",
       "      <th></th>\n",
       "      <th>date</th>\n",
       "      <th>store_nbr</th>\n",
       "      <th>item_nbr</th>\n",
       "      <th>unit_sales</th>\n",
       "      <th>onpromotion</th>\n",
       "    </tr>\n",
       "  </thead>\n",
       "  <tbody>\n",
       "    <tr>\n",
       "      <th>0</th>\n",
       "      <td>2017-04-01</td>\n",
       "      <td>1</td>\n",
       "      <td>103520</td>\n",
       "      <td>0.693147</td>\n",
       "      <td>False</td>\n",
       "    </tr>\n",
       "    <tr>\n",
       "      <th>1</th>\n",
       "      <td>2017-04-01</td>\n",
       "      <td>1</td>\n",
       "      <td>103665</td>\n",
       "      <td>0.693147</td>\n",
       "      <td>False</td>\n",
       "    </tr>\n",
       "  </tbody>\n",
       "</table>\n",
       "</div>"
      ],
      "text/plain": [
       "        date  store_nbr  item_nbr  unit_sales  onpromotion\n",
       "0 2017-04-01          1    103520    0.693147        False\n",
       "1 2017-04-01          1    103665    0.693147        False"
      ]
     },
     "execution_count": 20,
     "metadata": {},
     "output_type": "execute_result"
    }
   ],
   "source": [
    "df_train.head(2)"
   ]
  },
  {
   "cell_type": "code",
   "execution_count": 21,
   "metadata": {},
   "outputs": [],
   "source": [
    "df_train_promo = pivot_data (df_train, ['onpromotion'], ['store_nbr','item_nbr'], ['date'], False )\n",
    "df_test_promo = pivot_data (df_test, ['onpromotion'], ['store_nbr','item_nbr'], ['date'], False )\n",
    "df_train_sales = pivot_data (df_train, ['unit_sales'], ['store_nbr','item_nbr'], ['date'], 0)"
   ]
  },
  {
   "cell_type": "code",
   "execution_count": 22,
   "metadata": {},
   "outputs": [
    {
     "data": {
      "text/html": [
       "<div>\n",
       "<style scoped>\n",
       "    .dataframe tbody tr th:only-of-type {\n",
       "        vertical-align: middle;\n",
       "    }\n",
       "\n",
       "    .dataframe tbody tr th {\n",
       "        vertical-align: top;\n",
       "    }\n",
       "\n",
       "    .dataframe thead th {\n",
       "        text-align: right;\n",
       "    }\n",
       "</style>\n",
       "<table border=\"1\" class=\"dataframe\">\n",
       "  <thead>\n",
       "    <tr style=\"text-align: right;\">\n",
       "      <th></th>\n",
       "      <th>date</th>\n",
       "      <th>2017-04-01 00:00:00</th>\n",
       "      <th>2017-04-02 00:00:00</th>\n",
       "      <th>2017-04-03 00:00:00</th>\n",
       "      <th>2017-04-04 00:00:00</th>\n",
       "      <th>2017-04-05 00:00:00</th>\n",
       "      <th>2017-04-06 00:00:00</th>\n",
       "      <th>2017-04-07 00:00:00</th>\n",
       "      <th>2017-04-08 00:00:00</th>\n",
       "      <th>2017-04-09 00:00:00</th>\n",
       "      <th>2017-04-10 00:00:00</th>\n",
       "      <th>...</th>\n",
       "      <th>2017-08-06 00:00:00</th>\n",
       "      <th>2017-08-07 00:00:00</th>\n",
       "      <th>2017-08-08 00:00:00</th>\n",
       "      <th>2017-08-09 00:00:00</th>\n",
       "      <th>2017-08-10 00:00:00</th>\n",
       "      <th>2017-08-11 00:00:00</th>\n",
       "      <th>2017-08-12 00:00:00</th>\n",
       "      <th>2017-08-13 00:00:00</th>\n",
       "      <th>2017-08-14 00:00:00</th>\n",
       "      <th>2017-08-15 00:00:00</th>\n",
       "    </tr>\n",
       "    <tr>\n",
       "      <th>store_nbr</th>\n",
       "      <th>item_nbr</th>\n",
       "      <th></th>\n",
       "      <th></th>\n",
       "      <th></th>\n",
       "      <th></th>\n",
       "      <th></th>\n",
       "      <th></th>\n",
       "      <th></th>\n",
       "      <th></th>\n",
       "      <th></th>\n",
       "      <th></th>\n",
       "      <th></th>\n",
       "      <th></th>\n",
       "      <th></th>\n",
       "      <th></th>\n",
       "      <th></th>\n",
       "      <th></th>\n",
       "      <th></th>\n",
       "      <th></th>\n",
       "      <th></th>\n",
       "      <th></th>\n",
       "      <th></th>\n",
       "    </tr>\n",
       "  </thead>\n",
       "  <tbody>\n",
       "    <tr>\n",
       "      <th rowspan=\"2\" valign=\"top\">1</th>\n",
       "      <th>96995</th>\n",
       "      <td>0.0</td>\n",
       "      <td>0.0</td>\n",
       "      <td>0.0</td>\n",
       "      <td>0.0</td>\n",
       "      <td>0.0</td>\n",
       "      <td>0.0</td>\n",
       "      <td>1.098612</td>\n",
       "      <td>0.0</td>\n",
       "      <td>0.0</td>\n",
       "      <td>0.0</td>\n",
       "      <td>...</td>\n",
       "      <td>1.098612</td>\n",
       "      <td>1.098612</td>\n",
       "      <td>0.0</td>\n",
       "      <td>0.000000</td>\n",
       "      <td>0.693147</td>\n",
       "      <td>0.0</td>\n",
       "      <td>0.0</td>\n",
       "      <td>0.0</td>\n",
       "      <td>0.0</td>\n",
       "      <td>0.0</td>\n",
       "    </tr>\n",
       "    <tr>\n",
       "      <th>99197</th>\n",
       "      <td>0.0</td>\n",
       "      <td>0.0</td>\n",
       "      <td>0.0</td>\n",
       "      <td>0.0</td>\n",
       "      <td>0.0</td>\n",
       "      <td>0.0</td>\n",
       "      <td>0.000000</td>\n",
       "      <td>0.0</td>\n",
       "      <td>0.0</td>\n",
       "      <td>0.0</td>\n",
       "      <td>...</td>\n",
       "      <td>0.000000</td>\n",
       "      <td>1.098612</td>\n",
       "      <td>0.0</td>\n",
       "      <td>1.098612</td>\n",
       "      <td>0.000000</td>\n",
       "      <td>0.0</td>\n",
       "      <td>0.0</td>\n",
       "      <td>0.0</td>\n",
       "      <td>0.0</td>\n",
       "      <td>0.0</td>\n",
       "    </tr>\n",
       "  </tbody>\n",
       "</table>\n",
       "<p>2 rows × 137 columns</p>\n",
       "</div>"
      ],
      "text/plain": [
       "date                2017-04-01  2017-04-02  2017-04-03  2017-04-04  \\\n",
       "store_nbr item_nbr                                                   \n",
       "1         96995            0.0         0.0         0.0         0.0   \n",
       "          99197            0.0         0.0         0.0         0.0   \n",
       "\n",
       "date                2017-04-05  2017-04-06  2017-04-07  2017-04-08  \\\n",
       "store_nbr item_nbr                                                   \n",
       "1         96995            0.0         0.0    1.098612         0.0   \n",
       "          99197            0.0         0.0    0.000000         0.0   \n",
       "\n",
       "date                2017-04-09  2017-04-10     ...      2017-08-06  \\\n",
       "store_nbr item_nbr                             ...                   \n",
       "1         96995            0.0         0.0     ...        1.098612   \n",
       "          99197            0.0         0.0     ...        0.000000   \n",
       "\n",
       "date                2017-08-07  2017-08-08  2017-08-09  2017-08-10  \\\n",
       "store_nbr item_nbr                                                   \n",
       "1         96995       1.098612         0.0    0.000000    0.693147   \n",
       "          99197       1.098612         0.0    1.098612    0.000000   \n",
       "\n",
       "date                2017-08-11  2017-08-12  2017-08-13  2017-08-14  2017-08-15  \n",
       "store_nbr item_nbr                                                              \n",
       "1         96995            0.0         0.0         0.0         0.0         0.0  \n",
       "          99197            0.0         0.0         0.0         0.0         0.0  \n",
       "\n",
       "[2 rows x 137 columns]"
      ]
     },
     "execution_count": 22,
     "metadata": {},
     "output_type": "execute_result"
    }
   ],
   "source": [
    "df_train_sales.head(2)"
   ]
  },
  {
   "cell_type": "markdown",
   "metadata": {},
   "source": [
    "#### min-max normalization of the unit_sales data in the training set"
   ]
  },
  {
   "cell_type": "code",
   "execution_count": 23,
   "metadata": {},
   "outputs": [],
   "source": [
    "#sub_min = df_train_sales.sub(df_train_sales.min(axis=1), axis=0)\n",
    "#max_min = df_train_sales.max(axis=1) - df_train_sales.min(axis=1)\n",
    "#df_train_sales = sub_min.divide(max_min,axis=0)"
   ]
  },
  {
   "cell_type": "markdown",
   "metadata": {},
   "source": [
    "#### Unifying the index of test and train promo"
   ]
  },
  {
   "cell_type": "code",
   "execution_count": 24,
   "metadata": {},
   "outputs": [],
   "source": [
    "df_test_promo = df_test_promo.reindex(df_train_promo.index, fill_value = False)\n",
    "items = items.set_index(\"item_nbr\").reindex(df_train_sales.index.get_level_values(1))"
   ]
  },
  {
   "cell_type": "markdown",
   "metadata": {},
   "source": [
    "### Concatenate Promo Train and Test Data Set"
   ]
  },
  {
   "cell_type": "code",
   "execution_count": 25,
   "metadata": {},
   "outputs": [],
   "source": [
    "df_promo = pd.concat([df_train_promo, df_test_promo], axis = 1)"
   ]
  },
  {
   "cell_type": "code",
   "execution_count": 26,
   "metadata": {},
   "outputs": [
    {
     "data": {
      "text/html": [
       "<div>\n",
       "<style scoped>\n",
       "    .dataframe tbody tr th:only-of-type {\n",
       "        vertical-align: middle;\n",
       "    }\n",
       "\n",
       "    .dataframe tbody tr th {\n",
       "        vertical-align: top;\n",
       "    }\n",
       "\n",
       "    .dataframe thead th {\n",
       "        text-align: right;\n",
       "    }\n",
       "</style>\n",
       "<table border=\"1\" class=\"dataframe\">\n",
       "  <thead>\n",
       "    <tr style=\"text-align: right;\">\n",
       "      <th></th>\n",
       "      <th>date</th>\n",
       "      <th>2017-04-01 00:00:00</th>\n",
       "      <th>2017-04-02 00:00:00</th>\n",
       "      <th>2017-04-03 00:00:00</th>\n",
       "      <th>2017-04-04 00:00:00</th>\n",
       "      <th>2017-04-05 00:00:00</th>\n",
       "      <th>2017-04-06 00:00:00</th>\n",
       "      <th>2017-04-07 00:00:00</th>\n",
       "      <th>2017-04-08 00:00:00</th>\n",
       "      <th>2017-04-09 00:00:00</th>\n",
       "      <th>2017-04-10 00:00:00</th>\n",
       "      <th>...</th>\n",
       "      <th>2017-08-22 00:00:00</th>\n",
       "      <th>2017-08-23 00:00:00</th>\n",
       "      <th>2017-08-24 00:00:00</th>\n",
       "      <th>2017-08-25 00:00:00</th>\n",
       "      <th>2017-08-26 00:00:00</th>\n",
       "      <th>2017-08-27 00:00:00</th>\n",
       "      <th>2017-08-28 00:00:00</th>\n",
       "      <th>2017-08-29 00:00:00</th>\n",
       "      <th>2017-08-30 00:00:00</th>\n",
       "      <th>2017-08-31 00:00:00</th>\n",
       "    </tr>\n",
       "    <tr>\n",
       "      <th>store_nbr</th>\n",
       "      <th>item_nbr</th>\n",
       "      <th></th>\n",
       "      <th></th>\n",
       "      <th></th>\n",
       "      <th></th>\n",
       "      <th></th>\n",
       "      <th></th>\n",
       "      <th></th>\n",
       "      <th></th>\n",
       "      <th></th>\n",
       "      <th></th>\n",
       "      <th></th>\n",
       "      <th></th>\n",
       "      <th></th>\n",
       "      <th></th>\n",
       "      <th></th>\n",
       "      <th></th>\n",
       "      <th></th>\n",
       "      <th></th>\n",
       "      <th></th>\n",
       "      <th></th>\n",
       "      <th></th>\n",
       "    </tr>\n",
       "  </thead>\n",
       "  <tbody>\n",
       "    <tr>\n",
       "      <th rowspan=\"2\" valign=\"top\">1</th>\n",
       "      <th>96995</th>\n",
       "      <td>False</td>\n",
       "      <td>False</td>\n",
       "      <td>False</td>\n",
       "      <td>False</td>\n",
       "      <td>False</td>\n",
       "      <td>False</td>\n",
       "      <td>False</td>\n",
       "      <td>False</td>\n",
       "      <td>False</td>\n",
       "      <td>False</td>\n",
       "      <td>...</td>\n",
       "      <td>False</td>\n",
       "      <td>False</td>\n",
       "      <td>False</td>\n",
       "      <td>False</td>\n",
       "      <td>False</td>\n",
       "      <td>False</td>\n",
       "      <td>False</td>\n",
       "      <td>False</td>\n",
       "      <td>False</td>\n",
       "      <td>False</td>\n",
       "    </tr>\n",
       "    <tr>\n",
       "      <th>99197</th>\n",
       "      <td>False</td>\n",
       "      <td>False</td>\n",
       "      <td>False</td>\n",
       "      <td>False</td>\n",
       "      <td>False</td>\n",
       "      <td>False</td>\n",
       "      <td>False</td>\n",
       "      <td>False</td>\n",
       "      <td>False</td>\n",
       "      <td>False</td>\n",
       "      <td>...</td>\n",
       "      <td>False</td>\n",
       "      <td>False</td>\n",
       "      <td>False</td>\n",
       "      <td>False</td>\n",
       "      <td>False</td>\n",
       "      <td>False</td>\n",
       "      <td>False</td>\n",
       "      <td>False</td>\n",
       "      <td>False</td>\n",
       "      <td>False</td>\n",
       "    </tr>\n",
       "  </tbody>\n",
       "</table>\n",
       "<p>2 rows × 153 columns</p>\n",
       "</div>"
      ],
      "text/plain": [
       "date                2017-04-01  2017-04-02  2017-04-03  2017-04-04  \\\n",
       "store_nbr item_nbr                                                   \n",
       "1         96995          False       False       False       False   \n",
       "          99197          False       False       False       False   \n",
       "\n",
       "date                2017-04-05  2017-04-06  2017-04-07  2017-04-08  \\\n",
       "store_nbr item_nbr                                                   \n",
       "1         96995          False       False       False       False   \n",
       "          99197          False       False       False       False   \n",
       "\n",
       "date                2017-04-09  2017-04-10     ...      2017-08-22  \\\n",
       "store_nbr item_nbr                             ...                   \n",
       "1         96995          False       False     ...           False   \n",
       "          99197          False       False     ...           False   \n",
       "\n",
       "date                2017-08-23  2017-08-24  2017-08-25  2017-08-26  \\\n",
       "store_nbr item_nbr                                                   \n",
       "1         96995          False       False       False       False   \n",
       "          99197          False       False       False       False   \n",
       "\n",
       "date                2017-08-27  2017-08-28  2017-08-29  2017-08-30  2017-08-31  \n",
       "store_nbr item_nbr                                                              \n",
       "1         96995          False       False       False       False       False  \n",
       "          99197          False       False       False       False       False  \n",
       "\n",
       "[2 rows x 153 columns]"
      ]
     },
     "execution_count": 26,
     "metadata": {},
     "output_type": "execute_result"
    }
   ],
   "source": [
    "df_promo.head(2)"
   ]
  },
  {
   "cell_type": "markdown",
   "metadata": {},
   "source": [
    "# Feature Engineering"
   ]
  },
  {
   "cell_type": "code",
   "execution_count": 27,
   "metadata": {},
   "outputs": [],
   "source": [
    "# Generate past n days' date index range\n",
    "def past_date_range_index(day, n_days):\n",
    "    date_index = pd.date_range(day - timedelta(days=n_days), \n",
    "                               day, \n",
    "                               closed='left')\n",
    "    return date_index"
   ]
  },
  {
   "cell_type": "code",
   "execution_count": 28,
   "metadata": {},
   "outputs": [],
   "source": [
    "# Generate past nth day's date index\n",
    "def past_date_index (day,n_days):\n",
    "    date_index = day - timedelta(days = n_days)\n",
    "    return date_index"
   ]
  },
  {
   "cell_type": "markdown",
   "metadata": {},
   "source": [
    "#### Generate feature, target and promo set"
   ]
  },
  {
   "cell_type": "code",
   "execution_count": 29,
   "metadata": {},
   "outputs": [],
   "source": [
    "def feature_generation(df_sales, df_promo, pred_date, target_on):\n",
    "\n",
    "    # Generate the date range starting from the pred_date\n",
    "    future_date_range = pd.date_range(pred_date, periods=16)\n",
    "\n",
    "    # Create empty feature set\n",
    "    features = pd.DataFrame()\n",
    "\n",
    "    period=[3, 4, 5, 6, 7, 14, 21]\n",
    "    for n_days in period:\n",
    "        \n",
    "        # Feature Type 1: Past n Days' Sales Mean\n",
    "        date_index = past_date_range_index(pred_date, n_days)\n",
    "        features['past_{}day_mean'.format(n_days)] =  df_sales[date_index].mean(axis=1)\n",
    " \n",
    "        # Feature Type 2: Past n Days' Sales Decaying Sum (Exponential). \n",
    "        # Decaying factor = 0.9 \n",
    "        df_tmp1 = df_sales[date_index]\n",
    "        features['past_{}day_sum_decay'.format(n_days)] = \\\n",
    "          (df_tmp1 * np.power(0.9, np.arange(n_days)[::-1])).sum(axis=1)\n",
    "    \n",
    "\n",
    "    # Feature Type 3: Past nth Day Sales\n",
    "    period = [1, 2, 3, 4, 5, 6, 7]\n",
    "    for n_day in period:\n",
    "        date_index = past_date_index(pred_date, n_day)\n",
    "        features['past_{}th_day'.format(n_day)] =  df_sales[date_index]   \n",
    "\n",
    "        \n",
    "    # Feature Type 4: Past n days' Total Number of Promotion of Each Item\n",
    "    period=[3, 4, 5, 6, 7, 14, 21]\n",
    "    for n_days in period:\n",
    "        date_index = past_date_range_index(pred_date, n_days)\n",
    "        features['Past_{}day_tot_promo'.format(n_days)] =  df_promo[date_index].sum(axis=1) \n",
    "\n",
    "    # Feature Type 5: Future Promotion      \n",
    "    mapper = {\n",
    "        True: 1, \n",
    "        False: 0\n",
    "    }\n",
    "    future_promo = df_promo[future_date_range].applymap(lambda s: mapper.get(s) if s in mapper else False)\n",
    "\n",
    "    # For generating test data, no target is returned.\n",
    "    if target_on:\n",
    "        target = df_sales[future_date_range]\n",
    "        \n",
    "        return features,target, future_promo\n",
    "   \n",
    "    return features, future_promo\n"
   ]
  },
  {
   "cell_type": "markdown",
   "metadata": {},
   "source": [
    "### Train, Validation, Test Date preparation"
   ]
  },
  {
   "cell_type": "markdown",
   "metadata": {},
   "source": [
    "#### Select one `Boundary Day` for each `training`, `validation` and `test` data  "
   ]
  },
  {
   "cell_type": "code",
   "execution_count": 30,
   "metadata": {},
   "outputs": [],
   "source": [
    "train_date = datetime.datetime(2017, 7, 5)\n",
    "val_date = datetime.datetime (2017, 7, 12)\n",
    "test_date = datetime.datetime (2017, 8, 16)"
   ]
  },
  {
   "cell_type": "markdown",
   "metadata": {},
   "source": [
    "#### Generate `Training` data set  "
   ]
  },
  {
   "cell_type": "code",
   "execution_count": 31,
   "metadata": {},
   "outputs": [],
   "source": [
    "feature_train, target_train, future_promo_train = \\\n",
    "   feature_generation(df_train_sales,\n",
    "                      df_promo,\n",
    "                      train_date,\n",
    "                      True)"
   ]
  },
  {
   "cell_type": "markdown",
   "metadata": {},
   "source": [
    "#### Generate `Validation` data set  "
   ]
  },
  {
   "cell_type": "code",
   "execution_count": 32,
   "metadata": {},
   "outputs": [],
   "source": [
    "feature_val, target_val, future_promo_val = \\\n",
    "   feature_generation(df_train_sales,\n",
    "                      df_promo,\n",
    "                      val_date,\n",
    "                      True)"
   ]
  },
  {
   "cell_type": "markdown",
   "metadata": {},
   "source": [
    "#### Generate `Test` data set  "
   ]
  },
  {
   "cell_type": "code",
   "execution_count": 33,
   "metadata": {},
   "outputs": [],
   "source": [
    "feature_test, future_promo_test = \\\n",
    "   feature_generation(df_train_sales,\n",
    "                      df_promo,\n",
    "                      test_date,\n",
    "                      False)"
   ]
  },
  {
   "cell_type": "markdown",
   "metadata": {},
   "source": [
    "#### Generate weight matrix for perishable items"
   ]
  },
  {
   "cell_type": "code",
   "execution_count": 34,
   "metadata": {},
   "outputs": [],
   "source": [
    "weight_matrix = np.array(items['perishable']) * 0.25 + 1"
   ]
  },
  {
   "cell_type": "markdown",
   "metadata": {},
   "source": [
    "# Model Building\n",
    "Training one model per prediciton date, total 16 models will be trained for each method"
   ]
  },
  {
   "cell_type": "code",
   "execution_count": 35,
   "metadata": {},
   "outputs": [],
   "source": [
    "n_pred_days = 16"
   ]
  },
  {
   "cell_type": "markdown",
   "metadata": {},
   "source": [
    "## Method 1. Random Forest Regression (RFR)\n",
    "#### Training"
   ]
  },
  {
   "cell_type": "code",
   "execution_count": 36,
   "metadata": {},
   "outputs": [
    {
     "name": "stdout",
     "output_type": "stream",
     "text": [
      "==================================================\n",
      "Training Random Forest Regression Model #0 ...\n",
      "\n",
      "==================================================\n",
      "Training Random Forest Regression Model #1 ...\n",
      "\n",
      "==================================================\n",
      "Training Random Forest Regression Model #2 ...\n",
      "\n",
      "==================================================\n",
      "Training Random Forest Regression Model #3 ...\n",
      "\n",
      "==================================================\n",
      "Training Random Forest Regression Model #4 ...\n",
      "\n",
      "==================================================\n",
      "Training Random Forest Regression Model #5 ...\n",
      "\n",
      "==================================================\n",
      "Training Random Forest Regression Model #6 ...\n",
      "\n",
      "==================================================\n",
      "Training Random Forest Regression Model #7 ...\n",
      "\n",
      "==================================================\n",
      "Training Random Forest Regression Model #8 ...\n",
      "\n",
      "==================================================\n",
      "Training Random Forest Regression Model #9 ...\n",
      "\n",
      "==================================================\n",
      "Training Random Forest Regression Model #10 ...\n",
      "\n",
      "==================================================\n",
      "Training Random Forest Regression Model #11 ...\n",
      "\n",
      "==================================================\n",
      "Training Random Forest Regression Model #12 ...\n",
      "\n",
      "==================================================\n",
      "Training Random Forest Regression Model #13 ...\n",
      "\n",
      "==================================================\n",
      "Training Random Forest Regression Model #14 ...\n",
      "\n",
      "==================================================\n",
      "Training Random Forest Regression Model #15 ...\n",
      "\n",
      "Time of Training 16 Random Forest Regression Models: 8.06 Mins\n"
     ]
    }
   ],
   "source": [
    "start = time.time()\n",
    "\n",
    "if DEBUG:\n",
    "    n_estimators_ = 1\n",
    "else:\n",
    "    n_estimators_ = 10\n",
    "    \n",
    "model_RF_all = [] # Model list for storing all 16 models\n",
    "feature_train_add = pd.DataFrame()\n",
    "feature_val_add = pd.DataFrame()\n",
    "feature_test_add = pd.DataFrame()\n",
    "\n",
    "# future_promo contains 16 days data, get the one on prediction date and use as a feature\n",
    "\n",
    "for i in range(n_pred_days): \n",
    "    \n",
    "    print(\"=\" * 50)\n",
    "    print('Training Random Forest Regression Model #{} ...'.format(i))\n",
    "\n",
    "    feature_train_add = pd.concat([feature_train,future_promo_train.iloc[:,i]], axis=1)\n",
    "    feature_val_add = pd.concat([feature_val,future_promo_val.iloc[:,i]], axis=1)\n",
    "    feature_test_add = pd.concat([feature_test,future_promo_test.iloc[:,i]], axis=1)\n",
    "    \n",
    "    model = RandomForestRegressor(n_estimators = n_estimators_, random_state = 50)\n",
    "    model = model.fit(feature_train_add, target_train.iloc[:,i])\n",
    "\n",
    "    model_RF_all.append(model)\n",
    "\n",
    "    print(\"\")\n",
    "    \n",
    "end = time.time()\n",
    "print (\"Time of Training {} Random Forest Regression Models: {:.2f} Mins\".format(n_pred_days, (end - start) / 60))    "
   ]
  },
  {
   "cell_type": "markdown",
   "metadata": {},
   "source": [
    "#### Analyzing Feature Importance"
   ]
  },
  {
   "cell_type": "code",
   "execution_count": 37,
   "metadata": {},
   "outputs": [
    {
     "name": "stdout",
     "output_type": "stream",
     "text": [
      "==================================================\n",
      "Feature Importance Report [Random Forest Model #0]\n",
      "                 feature      gain\n",
      "0   past_21day_sum_decay  0.630298\n",
      "1   past_14day_sum_decay  0.076320\n",
      "2        past_21day_mean  0.025816\n",
      "3        past_14day_mean  0.022246\n",
      "4         past_7day_mean  0.021614\n",
      "5      predict_day_promo  0.020341\n",
      "6    past_7day_sum_decay  0.016750\n",
      "7    past_6day_sum_decay  0.012885\n",
      "8           past_1th_day  0.012540\n",
      "9    past_3day_sum_decay  0.012440\n",
      "10   past_5day_sum_decay  0.012347\n",
      "11          past_3th_day  0.012111\n",
      "12   past_4day_sum_decay  0.012067\n",
      "13          past_7th_day  0.011893\n",
      "14          past_2th_day  0.011306\n",
      "15          past_4th_day  0.011294\n",
      "16        past_6day_mean  0.010915\n",
      "17        past_5day_mean  0.010333\n",
      "18        past_4day_mean  0.009667\n",
      "19          past_5th_day  0.009584\n",
      "20          past_6th_day  0.008888\n",
      "21        past_3day_mean  0.008281\n",
      "22  Past_21day_tot_promo  0.004618\n",
      "23   Past_6day_tot_promo  0.004272\n",
      "24   Past_7day_tot_promo  0.003902\n",
      "25  Past_14day_tot_promo  0.003795\n",
      "26   Past_5day_tot_promo  0.001581\n",
      "27   Past_3day_tot_promo  0.000981\n",
      "28   Past_4day_tot_promo  0.000914\n",
      "\n",
      "==================================================\n",
      "Feature Importance Report [Random Forest Model #1]\n",
      "                 feature      gain\n",
      "0   past_21day_sum_decay  0.493791\n",
      "1   past_14day_sum_decay  0.176322\n",
      "2        past_21day_mean  0.029693\n",
      "3        past_14day_mean  0.024011\n",
      "4    past_7day_sum_decay  0.023631\n",
      "5         past_7day_mean  0.019531\n",
      "6    past_6day_sum_decay  0.016253\n",
      "7         past_6day_mean  0.015811\n",
      "8      predict_day_promo  0.015791\n",
      "9           past_3th_day  0.014631\n",
      "10   past_5day_sum_decay  0.014619\n",
      "11   past_4day_sum_decay  0.014065\n",
      "12   past_3day_sum_decay  0.014023\n",
      "13          past_2th_day  0.013495\n",
      "14          past_4th_day  0.013230\n",
      "15          past_1th_day  0.012455\n",
      "16        past_5day_mean  0.012184\n",
      "17          past_6th_day  0.011176\n",
      "18        past_4day_mean  0.011176\n",
      "19          past_5th_day  0.011131\n",
      "20          past_7th_day  0.010446\n",
      "21        past_3day_mean  0.010372\n",
      "22  Past_21day_tot_promo  0.006585\n",
      "23   Past_7day_tot_promo  0.004087\n",
      "24   Past_6day_tot_promo  0.003708\n",
      "25  Past_14day_tot_promo  0.003319\n",
      "26   Past_5day_tot_promo  0.002326\n",
      "27   Past_4day_tot_promo  0.001084\n",
      "28   Past_3day_tot_promo  0.001055\n",
      "\n",
      "==================================================\n",
      "Feature Importance Report [Random Forest Model #2]\n",
      "                 feature      gain\n",
      "0   past_21day_sum_decay  0.558142\n",
      "1        past_14day_mean  0.092486\n",
      "2   past_14day_sum_decay  0.049093\n",
      "3        past_21day_mean  0.034743\n",
      "4         past_7day_mean  0.021584\n",
      "5      predict_day_promo  0.020030\n",
      "6    past_7day_sum_decay  0.016446\n",
      "7           past_5th_day  0.016109\n",
      "8    past_6day_sum_decay  0.014372\n",
      "9           past_3th_day  0.014043\n",
      "10   past_5day_sum_decay  0.013680\n",
      "11   past_3day_sum_decay  0.013232\n",
      "12   past_4day_sum_decay  0.013114\n",
      "13          past_4th_day  0.012973\n",
      "14          past_2th_day  0.012675\n",
      "15        past_6day_mean  0.012116\n",
      "16          past_1th_day  0.011919\n",
      "17        past_5day_mean  0.011190\n",
      "18          past_7th_day  0.010971\n",
      "19        past_4day_mean  0.010329\n",
      "20          past_6th_day  0.010028\n",
      "21        past_3day_mean  0.009590\n",
      "22  Past_21day_tot_promo  0.007497\n",
      "23  Past_14day_tot_promo  0.003529\n",
      "24   Past_5day_tot_promo  0.003229\n",
      "25   Past_7day_tot_promo  0.002177\n",
      "26   Past_6day_tot_promo  0.002164\n",
      "27   Past_4day_tot_promo  0.001674\n",
      "28   Past_3day_tot_promo  0.000865\n",
      "\n",
      "==================================================\n",
      "Feature Importance Report [Random Forest Model #3]\n",
      "                 feature      gain\n",
      "0   past_21day_sum_decay  0.647616\n",
      "1   past_14day_sum_decay  0.067751\n",
      "2        past_21day_mean  0.028255\n",
      "3        past_14day_mean  0.022558\n",
      "4    past_7day_sum_decay  0.017047\n",
      "5    past_6day_sum_decay  0.015212\n",
      "6         past_7day_mean  0.014314\n",
      "7           past_4th_day  0.013933\n",
      "8           past_3th_day  0.013585\n",
      "9    past_5day_sum_decay  0.012933\n",
      "10        past_5day_mean  0.012770\n",
      "11     predict_day_promo  0.012187\n",
      "12        past_6day_mean  0.012161\n",
      "13   past_4day_sum_decay  0.011685\n",
      "14          past_2th_day  0.011505\n",
      "15   past_3day_sum_decay  0.011492\n",
      "16          past_1th_day  0.011066\n",
      "17          past_5th_day  0.009961\n",
      "18        past_4day_mean  0.009597\n",
      "19          past_7th_day  0.009231\n",
      "20          past_6th_day  0.008930\n",
      "21        past_3day_mean  0.008406\n",
      "22  Past_21day_tot_promo  0.006302\n",
      "23  Past_14day_tot_promo  0.003258\n",
      "24   Past_7day_tot_promo  0.002763\n",
      "25   Past_6day_tot_promo  0.002145\n",
      "26   Past_5day_tot_promo  0.001741\n",
      "27   Past_4day_tot_promo  0.000908\n",
      "28   Past_3day_tot_promo  0.000688\n",
      "\n",
      "==================================================\n",
      "Feature Importance Report [Random Forest Model #4]\n",
      "                 feature      gain\n",
      "0   past_21day_sum_decay  0.676136\n",
      "1   past_14day_sum_decay  0.033101\n",
      "2        past_21day_mean  0.026647\n",
      "3        past_14day_mean  0.021483\n",
      "4         past_4day_mean  0.021318\n",
      "5           past_3th_day  0.018387\n",
      "6    past_7day_sum_decay  0.016183\n",
      "7    past_6day_sum_decay  0.014460\n",
      "8         past_7day_mean  0.013690\n",
      "9    past_5day_sum_decay  0.013432\n",
      "10   past_4day_sum_decay  0.012858\n",
      "11        past_5day_mean  0.012343\n",
      "12          past_4th_day  0.012087\n",
      "13     predict_day_promo  0.011775\n",
      "14        past_6day_mean  0.011278\n",
      "15   past_3day_sum_decay  0.011276\n",
      "16          past_2th_day  0.011250\n",
      "17          past_1th_day  0.009592\n",
      "18          past_7th_day  0.009208\n",
      "19          past_5th_day  0.008876\n",
      "20          past_6th_day  0.008847\n",
      "21        past_3day_mean  0.007906\n",
      "22  Past_21day_tot_promo  0.006157\n",
      "23  Past_14day_tot_promo  0.003070\n",
      "24   Past_7day_tot_promo  0.002621\n",
      "25   Past_6day_tot_promo  0.002134\n",
      "26   Past_5day_tot_promo  0.001848\n",
      "27   Past_4day_tot_promo  0.001177\n",
      "28   Past_3day_tot_promo  0.000861\n",
      "\n",
      "==================================================\n",
      "Feature Importance Report [Random Forest Model #5]\n",
      "                 feature      gain\n",
      "0   past_21day_sum_decay  0.670464\n",
      "1        past_21day_mean  0.028119\n",
      "2   past_14day_sum_decay  0.024643\n",
      "3        past_14day_mean  0.023957\n",
      "4    past_7day_sum_decay  0.016890\n",
      "5         past_7day_mean  0.015736\n",
      "6      predict_day_promo  0.015656\n",
      "7    past_6day_sum_decay  0.014753\n",
      "8           past_3th_day  0.014044\n",
      "9    past_5day_sum_decay  0.013909\n",
      "10   past_3day_sum_decay  0.013817\n",
      "11          past_2th_day  0.013572\n",
      "12        past_6day_mean  0.013300\n",
      "13   past_4day_sum_decay  0.013292\n",
      "14          past_4th_day  0.012919\n",
      "15        past_5day_mean  0.012104\n",
      "16          past_1th_day  0.011405\n",
      "17          past_7th_day  0.011111\n",
      "18          past_5th_day  0.011032\n",
      "19        past_4day_mean  0.010766\n",
      "20          past_6th_day  0.009486\n",
      "21        past_3day_mean  0.009462\n",
      "22  Past_21day_tot_promo  0.006221\n",
      "23  Past_14day_tot_promo  0.003507\n",
      "24   Past_7day_tot_promo  0.002983\n",
      "25   Past_5day_tot_promo  0.002386\n",
      "26   Past_6day_tot_promo  0.002093\n",
      "27   Past_4day_tot_promo  0.001581\n",
      "28   Past_3day_tot_promo  0.000793\n",
      "\n",
      "==================================================\n",
      "Feature Importance Report [Random Forest Model #6]\n",
      "                 feature      gain\n",
      "0   past_21day_sum_decay  0.635611\n",
      "1        past_21day_mean  0.030709\n",
      "2      predict_day_promo  0.030042\n",
      "3   past_14day_sum_decay  0.029589\n",
      "4        past_14day_mean  0.024732\n",
      "5    past_7day_sum_decay  0.017710\n",
      "6         past_7day_mean  0.016224\n",
      "7    past_6day_sum_decay  0.015307\n",
      "8           past_3th_day  0.015218\n",
      "9    past_5day_sum_decay  0.014397\n",
      "10   past_3day_sum_decay  0.014022\n",
      "11   past_4day_sum_decay  0.013685\n",
      "12        past_6day_mean  0.013611\n",
      "13          past_1th_day  0.013601\n",
      "14          past_4th_day  0.013351\n",
      "15          past_2th_day  0.013246\n",
      "16        past_5day_mean  0.012536\n",
      "17          past_7th_day  0.011199\n",
      "18        past_4day_mean  0.010959\n",
      "19          past_5th_day  0.010930\n",
      "20          past_6th_day  0.010465\n",
      "21        past_3day_mean  0.009795\n",
      "22  Past_21day_tot_promo  0.007459\n",
      "23   Past_7day_tot_promo  0.003960\n",
      "24   Past_6day_tot_promo  0.003518\n",
      "25  Past_14day_tot_promo  0.003296\n",
      "26   Past_5day_tot_promo  0.002488\n",
      "27   Past_3day_tot_promo  0.001198\n",
      "28   Past_4day_tot_promo  0.001140\n",
      "\n",
      "==================================================\n",
      "Feature Importance Report [Random Forest Model #7]\n",
      "                 feature      gain\n",
      "0   past_21day_sum_decay  0.504008\n",
      "1        past_21day_mean  0.111125\n",
      "2        past_14day_mean  0.082420\n",
      "3      predict_day_promo  0.033571\n",
      "4   past_14day_sum_decay  0.023108\n",
      "5    past_7day_sum_decay  0.016033\n",
      "6           past_7th_day  0.015436\n",
      "7         past_7day_mean  0.015092\n",
      "8           past_3th_day  0.014902\n",
      "9    past_6day_sum_decay  0.014571\n",
      "10   past_5day_sum_decay  0.013931\n",
      "11   past_3day_sum_decay  0.013755\n",
      "12   past_4day_sum_decay  0.013402\n",
      "13          past_2th_day  0.013210\n",
      "14          past_4th_day  0.012980\n",
      "15        past_6day_mean  0.012399\n",
      "16          past_1th_day  0.011946\n",
      "17        past_5day_mean  0.011900\n",
      "18          past_5th_day  0.011738\n",
      "19        past_4day_mean  0.010885\n",
      "20          past_6th_day  0.010257\n",
      "21        past_3day_mean  0.009743\n",
      "22  Past_21day_tot_promo  0.007715\n",
      "23   Past_6day_tot_promo  0.004029\n",
      "24   Past_7day_tot_promo  0.003950\n",
      "25  Past_14day_tot_promo  0.003790\n",
      "26   Past_5day_tot_promo  0.001725\n",
      "27   Past_4day_tot_promo  0.001193\n",
      "28   Past_3day_tot_promo  0.001188\n",
      "\n",
      "==================================================\n",
      "Feature Importance Report [Random Forest Model #8]\n"
     ]
    },
    {
     "name": "stdout",
     "output_type": "stream",
     "text": [
      "                 feature      gain\n",
      "0   past_21day_sum_decay  0.381578\n",
      "1        past_21day_mean  0.253468\n",
      "2      predict_day_promo  0.035229\n",
      "3        past_14day_mean  0.028886\n",
      "4   past_14day_sum_decay  0.025979\n",
      "5    past_7day_sum_decay  0.018536\n",
      "6         past_7day_mean  0.017715\n",
      "7           past_3th_day  0.017439\n",
      "8    past_6day_sum_decay  0.016318\n",
      "9    past_5day_sum_decay  0.015689\n",
      "10          past_2th_day  0.015631\n",
      "11          past_4th_day  0.014909\n",
      "12   past_3day_sum_decay  0.014872\n",
      "13   past_4day_sum_decay  0.014755\n",
      "14        past_6day_mean  0.014518\n",
      "15          past_1th_day  0.014086\n",
      "16          past_6th_day  0.013975\n",
      "17        past_5day_mean  0.013586\n",
      "18          past_7th_day  0.013417\n",
      "19          past_5th_day  0.013066\n",
      "20        past_4day_mean  0.012745\n",
      "21        past_3day_mean  0.010818\n",
      "22  Past_21day_tot_promo  0.007405\n",
      "23  Past_14day_tot_promo  0.006284\n",
      "24   Past_7day_tot_promo  0.003078\n",
      "25   Past_6day_tot_promo  0.001789\n",
      "26   Past_4day_tot_promo  0.001568\n",
      "27   Past_5day_tot_promo  0.001475\n",
      "28   Past_3day_tot_promo  0.001187\n",
      "\n",
      "==================================================\n",
      "Feature Importance Report [Random Forest Model #9]\n",
      "                 feature      gain\n",
      "0        past_21day_mean  0.554451\n",
      "1   past_21day_sum_decay  0.091924\n",
      "2      predict_day_promo  0.040452\n",
      "3        past_14day_mean  0.027891\n",
      "4   past_14day_sum_decay  0.023347\n",
      "5           past_5th_day  0.017539\n",
      "6    past_7day_sum_decay  0.017012\n",
      "7         past_7day_mean  0.016623\n",
      "8           past_3th_day  0.015933\n",
      "9           past_4th_day  0.015126\n",
      "10   past_6day_sum_decay  0.014696\n",
      "11   past_3day_sum_decay  0.014419\n",
      "12          past_2th_day  0.014207\n",
      "13   past_5day_sum_decay  0.013847\n",
      "14        past_6day_mean  0.013787\n",
      "15   past_4day_sum_decay  0.013644\n",
      "16          past_7th_day  0.013563\n",
      "17          past_1th_day  0.012721\n",
      "18        past_5day_mean  0.012190\n",
      "19          past_6th_day  0.011775\n",
      "20  Past_21day_tot_promo  0.011411\n",
      "21        past_4day_mean  0.011193\n",
      "22        past_3day_mean  0.010462\n",
      "23  Past_14day_tot_promo  0.005068\n",
      "24   Past_7day_tot_promo  0.002265\n",
      "25   Past_6day_tot_promo  0.001457\n",
      "26   Past_5day_tot_promo  0.001419\n",
      "27   Past_4day_tot_promo  0.000874\n",
      "28   Past_3day_tot_promo  0.000705\n",
      "\n",
      "==================================================\n",
      "Feature Importance Report [Random Forest Model #10]\n",
      "                 feature      gain\n",
      "0   past_21day_sum_decay  0.551412\n",
      "1        past_21day_mean  0.133026\n",
      "2      predict_day_promo  0.029212\n",
      "3        past_14day_mean  0.024471\n",
      "4   past_14day_sum_decay  0.023832\n",
      "5    past_7day_sum_decay  0.016287\n",
      "6         past_7day_mean  0.015058\n",
      "7           past_4th_day  0.015007\n",
      "8    past_6day_sum_decay  0.014611\n",
      "9           past_3th_day  0.014412\n",
      "10   past_5day_sum_decay  0.014392\n",
      "11   past_4day_sum_decay  0.013083\n",
      "12        past_6day_mean  0.012940\n",
      "13        past_5day_mean  0.012927\n",
      "14   past_3day_sum_decay  0.012614\n",
      "15          past_2th_day  0.012432\n",
      "16          past_1th_day  0.011658\n",
      "17          past_5th_day  0.011374\n",
      "18          past_7th_day  0.011039\n",
      "19        past_4day_mean  0.010687\n",
      "20          past_6th_day  0.009994\n",
      "21        past_3day_mean  0.008847\n",
      "22  Past_21day_tot_promo  0.006650\n",
      "23  Past_14day_tot_promo  0.004300\n",
      "24   Past_7day_tot_promo  0.004238\n",
      "25   Past_6day_tot_promo  0.001908\n",
      "26   Past_4day_tot_promo  0.001556\n",
      "27   Past_5day_tot_promo  0.001195\n",
      "28   Past_3day_tot_promo  0.000838\n",
      "\n",
      "==================================================\n",
      "Feature Importance Report [Random Forest Model #11]\n",
      "                 feature      gain\n",
      "0   past_21day_sum_decay  0.636301\n",
      "1        past_21day_mean  0.047695\n",
      "2      predict_day_promo  0.029223\n",
      "3   past_14day_sum_decay  0.025016\n",
      "4        past_14day_mean  0.024093\n",
      "5           past_3th_day  0.020539\n",
      "6    past_7day_sum_decay  0.015998\n",
      "7         past_7day_mean  0.015503\n",
      "8    past_6day_sum_decay  0.014044\n",
      "9           past_4th_day  0.013666\n",
      "10   past_5day_sum_decay  0.013522\n",
      "11   past_4day_sum_decay  0.013022\n",
      "12          past_2th_day  0.012339\n",
      "13        past_6day_mean  0.012278\n",
      "14   past_3day_sum_decay  0.011959\n",
      "15        past_5day_mean  0.011720\n",
      "16          past_7th_day  0.011526\n",
      "17          past_5th_day  0.011086\n",
      "18        past_4day_mean  0.011052\n",
      "19          past_1th_day  0.010450\n",
      "20          past_6th_day  0.009853\n",
      "21        past_3day_mean  0.008709\n",
      "22  Past_21day_tot_promo  0.005822\n",
      "23  Past_14day_tot_promo  0.005144\n",
      "24   Past_7day_tot_promo  0.003456\n",
      "25   Past_6day_tot_promo  0.002557\n",
      "26   Past_4day_tot_promo  0.001391\n",
      "27   Past_5day_tot_promo  0.001158\n",
      "28   Past_3day_tot_promo  0.000879\n",
      "\n",
      "==================================================\n",
      "Feature Importance Report [Random Forest Model #12]\n",
      "                 feature      gain\n",
      "0   past_21day_sum_decay  0.614674\n",
      "1        past_21day_mean  0.047388\n",
      "2      predict_day_promo  0.032206\n",
      "3   past_14day_sum_decay  0.026014\n",
      "4        past_14day_mean  0.025578\n",
      "5    past_7day_sum_decay  0.018154\n",
      "6         past_7day_mean  0.016408\n",
      "7    past_6day_sum_decay  0.015556\n",
      "8           past_3th_day  0.015228\n",
      "9    past_5day_sum_decay  0.014831\n",
      "10   past_4day_sum_decay  0.014576\n",
      "11        past_6day_mean  0.014293\n",
      "12          past_2th_day  0.014022\n",
      "13          past_4th_day  0.014009\n",
      "14   past_3day_sum_decay  0.013903\n",
      "15        past_5day_mean  0.012812\n",
      "16          past_1th_day  0.012179\n",
      "17        past_4day_mean  0.011849\n",
      "18          past_7th_day  0.011619\n",
      "19          past_5th_day  0.011619\n",
      "20        past_3day_mean  0.010836\n",
      "21          past_6th_day  0.010626\n",
      "22  Past_21day_tot_promo  0.006268\n",
      "23  Past_14day_tot_promo  0.005159\n",
      "24   Past_7day_tot_promo  0.004032\n",
      "25   Past_6day_tot_promo  0.002199\n",
      "26   Past_5day_tot_promo  0.001902\n",
      "27   Past_4day_tot_promo  0.001265\n",
      "28   Past_3day_tot_promo  0.000796\n",
      "\n",
      "==================================================\n",
      "Feature Importance Report [Random Forest Model #13]\n",
      "                 feature      gain\n",
      "0   past_21day_sum_decay  0.587685\n",
      "1        past_21day_mean  0.053911\n",
      "2      predict_day_promo  0.044274\n",
      "3   past_14day_sum_decay  0.026193\n",
      "4        past_14day_mean  0.026052\n",
      "5    past_7day_sum_decay  0.018465\n",
      "6         past_7day_mean  0.017032\n",
      "7           past_3th_day  0.015826\n",
      "8    past_6day_sum_decay  0.015627\n",
      "9    past_5day_sum_decay  0.015134\n",
      "10   past_3day_sum_decay  0.015050\n",
      "11          past_1th_day  0.015045\n",
      "12        past_6day_mean  0.014734\n",
      "13   past_4day_sum_decay  0.014356\n",
      "14          past_4th_day  0.014311\n",
      "15          past_2th_day  0.013620\n",
      "16        past_5day_mean  0.013114\n",
      "17          past_7th_day  0.011988\n",
      "18          past_5th_day  0.011941\n",
      "19        past_4day_mean  0.011834\n",
      "20          past_6th_day  0.011428\n",
      "21        past_3day_mean  0.010710\n",
      "22  Past_21day_tot_promo  0.006452\n",
      "23  Past_14day_tot_promo  0.005087\n",
      "24   Past_7day_tot_promo  0.003148\n",
      "25   Past_6day_tot_promo  0.002161\n",
      "26   Past_5day_tot_promo  0.001962\n",
      "27   Past_4day_tot_promo  0.001471\n",
      "28   Past_3day_tot_promo  0.001389\n",
      "\n",
      "==================================================\n",
      "Feature Importance Report [Random Forest Model #14]\n",
      "                 feature      gain\n",
      "0   past_21day_sum_decay  0.381186\n",
      "1        past_21day_mean  0.261157\n",
      "2      predict_day_promo  0.049007\n",
      "3        past_14day_mean  0.026672\n",
      "4   past_14day_sum_decay  0.023577\n",
      "5    past_7day_sum_decay  0.017029\n",
      "6           past_7th_day  0.015952\n",
      "7         past_7day_mean  0.015833\n",
      "8           past_3th_day  0.015526\n",
      "9    past_6day_sum_decay  0.014534\n",
      "10   past_3day_sum_decay  0.014348\n",
      "11   past_5day_sum_decay  0.014276\n",
      "12   past_4day_sum_decay  0.014182\n",
      "13          past_4th_day  0.013894\n",
      "14          past_2th_day  0.013877\n",
      "15        past_6day_mean  0.013695\n",
      "16          past_1th_day  0.013055\n",
      "17          past_5th_day  0.012580\n",
      "18        past_5day_mean  0.012479\n",
      "19        past_4day_mean  0.011999\n",
      "20          past_6th_day  0.011442\n",
      "21        past_3day_mean  0.010050\n",
      "22  Past_21day_tot_promo  0.007290\n",
      "23  Past_14day_tot_promo  0.005849\n",
      "24   Past_7day_tot_promo  0.005229\n",
      "25   Past_6day_tot_promo  0.001848\n",
      "26   Past_4day_tot_promo  0.001464\n",
      "27   Past_5day_tot_promo  0.001303\n",
      "28   Past_3day_tot_promo  0.000668\n",
      "\n",
      "==================================================\n",
      "Feature Importance Report [Random Forest Model #15]\n",
      "                 feature      gain\n",
      "0   past_21day_sum_decay  0.518395\n",
      "1        past_21day_mean  0.117640\n",
      "2      predict_day_promo  0.036878\n",
      "3        past_14day_mean  0.028674\n",
      "4   past_14day_sum_decay  0.026176\n",
      "5    past_7day_sum_decay  0.018688\n",
      "6         past_7day_mean  0.018024\n",
      "7           past_3th_day  0.016655\n",
      "8    past_6day_sum_decay  0.015603\n",
      "9    past_5day_sum_decay  0.015595\n",
      "10          past_4th_day  0.015111\n",
      "11   past_4day_sum_decay  0.015042\n",
      "12        past_6day_mean  0.015027\n",
      "13          past_2th_day  0.014593\n",
      "14   past_3day_sum_decay  0.014389\n",
      "15        past_5day_mean  0.013889\n",
      "16          past_6th_day  0.013847\n",
      "17          past_1th_day  0.013564\n",
      "18          past_5th_day  0.013389\n",
      "19          past_7th_day  0.013015\n",
      "20        past_4day_mean  0.012658\n",
      "21        past_3day_mean  0.010715\n",
      "22  Past_21day_tot_promo  0.007682\n",
      "23  Past_14day_tot_promo  0.005929\n",
      "24   Past_7day_tot_promo  0.003679\n",
      "25   Past_6day_tot_promo  0.001482\n",
      "26   Past_5day_tot_promo  0.001386\n",
      "27   Past_4day_tot_promo  0.001359\n",
      "28   Past_3day_tot_promo  0.000917\n",
      "\n"
     ]
    }
   ],
   "source": [
    "for i in range(n_pred_days):\n",
    "    print(\"=\" * 50)\n",
    "    print ('Feature Importance Report [Random Forest Model #{}]'.format(i))\n",
    "    \n",
    "    feature_train_add = feature_train.copy()\n",
    "    feature_train_add['predict_day_promo']= future_promo_train.iloc[:,i]\n",
    "    \n",
    "    feature_importance = pd.DataFrame(\n",
    "        sorted(zip(feature_train_add.columns, model_RF_all[i].feature_importances_ ),\n",
    "        key=lambda x: x[1], reverse=True), columns = ['feature','gain']\n",
    "    )\n",
    "    \n",
    "    print(feature_importance.to_string())\n",
    "    print(\"\")"
   ]
  },
  {
   "cell_type": "markdown",
   "metadata": {},
   "source": [
    "#### Model Prediction "
   ]
  },
  {
   "cell_type": "code",
   "execution_count": 38,
   "metadata": {},
   "outputs": [],
   "source": [
    "def predict_all(models, feature, future_promo, start_date):\n",
    "    target_predic_all = {}\n",
    "    future_date_range = pd.date_range(start_date, periods=16) \n",
    "    \n",
    "    length = len(models) \n",
    "    for i in range (length):   \n",
    "        feature_add = pd.concat([feature,future_promo.iloc[:,i]], axis=1)\n",
    "        target_predic = models[i].predict(feature_add)\n",
    " \n",
    "        if len(target_predic.shape) == 2:\n",
    "            target_predic = target_predic[:,0]\n",
    "        \n",
    "        target_predic_all[future_date_range[i]] = target_predic\n",
    "        target_predic_all = pd.DataFrame(target_predic_all)\n",
    "    \n",
    "    return target_predic_all"
   ]
  },
  {
   "cell_type": "code",
   "execution_count": 39,
   "metadata": {},
   "outputs": [],
   "source": [
    "predict_val_all_RF = predict_all(model_RF_all, feature_val, future_promo_val, val_date)\n",
    "predict_test_all_RF = predict_all(model_RF_all, feature_test, future_promo_test, test_date)"
   ]
  },
  {
   "cell_type": "markdown",
   "metadata": {},
   "source": [
    "#### Define Model Performance Metric"
   ]
  },
  {
   "cell_type": "code",
   "execution_count": 40,
   "metadata": {},
   "outputs": [],
   "source": [
    "def nwrmsle_cal(predict, actual, weight):\n",
    "    #predict = predict.values\n",
    "    #actual = actual.values\n",
    "    \n",
    "    error = (actual - np.array(predict)) ** 2\n",
    "    error = error.sum(axis=1) * weight\n",
    "    nwrmsle = np.sqrt(error.sum() / weight.sum() / 16)\n",
    "                  \n",
    "    return nwrmsle"
   ]
  },
  {
   "cell_type": "code",
   "execution_count": 41,
   "metadata": {},
   "outputs": [],
   "source": [
    "def smape_cal(train, predict, target, dates):\n",
    "    y = np.array(predict)\n",
    "    forcast = pd.DataFrame(\n",
    "    y, index=train.index,\n",
    "    columns=pd.date_range(dates, periods=16)).stack().to_frame(\"predict_unit_sales\")\n",
    "    \n",
    "    forcast.index.set_names([\"store_nbr\", \"item_nbr\", \"date\"], inplace=True)\n",
    "    \n",
    "    forcast[\"predict_unit_sales\"] = np.expm1(forcast[\"predict_unit_sales\"])\n",
    "    \n",
    "    actual = target.stack().to_frame(\"actual_unit_sales\")\n",
    "    actual.index.set_names([\"store_nbr\", \"item_nbr\", \"date\"], inplace=True)\n",
    "    actual[\"actual_unit_sales\"] = np.expm1(actual[\"actual_unit_sales\"])\n",
    "    \n",
    "    concat_data = pd.concat([actual,forcast], axis=1)\n",
    "    concat_data = concat_data[(concat_data['actual_unit_sales'] !=0 )|(concat_data['predict_unit_sales'] != 0)]\n",
    "    \n",
    "    \n",
    "    a = concat_data['actual_unit_sales'].values\n",
    "    f = concat_data['predict_unit_sales'].values\n",
    "    smape = np.mean(abs(a - f) / (abs(a) + abs(f)) / 2) * 100\n",
    "    \n",
    "    return smape"
   ]
  },
  {
   "cell_type": "markdown",
   "metadata": {},
   "source": [
    "#### Performance Evaluation"
   ]
  },
  {
   "cell_type": "code",
   "execution_count": 42,
   "metadata": {},
   "outputs": [],
   "source": [
    "nwrmsle_val_RF = nwrmsle_cal(predict_val_all_RF, target_val, weight_matrix )\n",
    "rmse_val_RF = math.sqrt(mean_squared_error(predict_val_all_RF.values, target_val.values))\n",
    "smape_val_RF = smape_cal(df_train_sales, predict_val_all_RF, target_val, val_date)"
   ]
  },
  {
   "cell_type": "code",
   "execution_count": 43,
   "metadata": {},
   "outputs": [
    {
     "name": "stdout",
     "output_type": "stream",
     "text": [
      "NWRMSLE on Validation Data Set [Random Forest Regression]: 0.657\n",
      "RMSLE on Validation Data Set [Random Forest Regression]: 0.657\n",
      "sMAPE on Validation Data Set [Random Forest Regression]: 28.3%\n"
     ]
    }
   ],
   "source": [
    "print('NWRMSLE on Validation Data Set [Random Forest Regression]: {:.3f}'.format(nwrmsle_val_RF))\n",
    "print('RMSLE on Validation Data Set [Random Forest Regression]: {:.3f}'.format(rmse_val_RF))\n",
    "print('sMAPE on Validation Data Set [Random Forest Regression]: {:.1f}%'.format(smape_val_RF))"
   ]
  },
  {
   "cell_type": "markdown",
   "metadata": {},
   "source": [
    "## Method 2. Deep Learning Model (DL)"
   ]
  },
  {
   "cell_type": "markdown",
   "metadata": {},
   "source": [
    "#### Define Network Architecture"
   ]
  },
  {
   "cell_type": "code",
   "execution_count": 44,
   "metadata": {},
   "outputs": [],
   "source": [
    "def model_creation(input_dim_, dropout_rate=0.0):\n",
    "    # Set Initial Weights \n",
    "    kernel_initializer_ = keras.initializers.TruncatedNormal(mean=0.0, stddev=0.05, seed=1)\n",
    "    \n",
    "    # Define Netwrok Type\n",
    "    model = Sequential()\n",
    "    \n",
    "    # Hidden layer\n",
    "    model.add(Dense(32, activation='relu', input_shape=(input_dim_,),kernel_initializer=kernel_initializer_))\n",
    "    model.add(Dropout(dropout_rate))\n",
    "    \n",
    "    model.add(Dense(16, activation='relu', kernel_initializer=kernel_initializer_))\n",
    "    model.add(Dropout(dropout_rate))\n",
    "    \n",
    "    model.add(Dense(8, activation='relu', kernel_initializer=kernel_initializer_))\n",
    "    \n",
    "    # Output layer\n",
    "    model.add(Dense(1, activation='relu', kernel_initializer=kernel_initializer_))\n",
    "    \n",
    "    model.compile(loss='mean_squared_error', optimizer=\"adam\")\n",
    "    \n",
    "    return model\n",
    "    "
   ]
  },
  {
   "cell_type": "markdown",
   "metadata": {},
   "source": [
    "#### Define Training Function"
   ]
  },
  {
   "cell_type": "code",
   "execution_count": 45,
   "metadata": {},
   "outputs": [],
   "source": [
    "def model_training_dl(feature_train, target_train, feature_val, target_val, epochs_):\n",
    "    input_dim = feature_train.shape[1]\n",
    "           \n",
    "    # Define Call Back for Early Stop\n",
    "    call_back = [\n",
    "        keras.callbacks.EarlyStopping(monitor='val_loss', min_delta=0, patience=50, verbose=0, mode='auto')\n",
    "    ]\n",
    "       \n",
    "    # Initialize Model\n",
    "    model = model_creation(input_dim)\n",
    "    \n",
    "    # Train DLModel\n",
    "    model_info = model.fit(feature_train, \n",
    "                           target_train,\n",
    "                           batch_size=feature_train.shape[0],\n",
    "                           epochs=epochs_,\n",
    "                           verbose=0,\n",
    "                           callbacks = call_back,\n",
    "                           validation_data=(feature_val, target_val)\n",
    "                          )\n",
    "    return model, model_info"
   ]
  },
  {
   "cell_type": "markdown",
   "metadata": {},
   "source": [
    "#### Training"
   ]
  },
  {
   "cell_type": "code",
   "execution_count": null,
   "metadata": {},
   "outputs": [
    {
     "name": "stdout",
     "output_type": "stream",
     "text": [
      "==================================================\n",
      "Training Deep Learning Model #0 ...\n",
      "\n",
      "==================================================\n",
      "Training Deep Learning Model #1 ...\n",
      "\n",
      "==================================================\n",
      "Training Deep Learning Model #2 ...\n",
      "\n",
      "==================================================\n",
      "Training Deep Learning Model #3 ...\n",
      "\n",
      "==================================================\n",
      "Training Deep Learning Model #4 ...\n",
      "\n",
      "==================================================\n",
      "Training Deep Learning Model #5 ...\n",
      "\n",
      "==================================================\n",
      "Training Deep Learning Model #6 ...\n",
      "\n",
      "==================================================\n",
      "Training Deep Learning Model #7 ...\n"
     ]
    }
   ],
   "source": [
    "if DEBUG:\n",
    "    epochs_ = 2\n",
    "else:\n",
    "    epochs_ = 1000\n",
    "    \n",
    "model_dl_all = [] # Model list for storing all 16 models\n",
    "model_info_dl_all= [] # List of storing model training information, such as val_loos, val_acc. \n",
    "\n",
    "feature_train_add = pd.DataFrame()\n",
    "feature_val_add = pd.DataFrame()\n",
    "feature_test_add = pd.DataFrame()\n",
    "\n",
    "start = time.time()\n",
    "\n",
    "# future_promo contains 16 days data, get the one on prediction date and use as a feature\n",
    "\n",
    "for i in range(n_pred_days): \n",
    "    \n",
    "    print(\"=\" * 50)\n",
    "    print('Training Deep Learning Model #{} ...'.format(i))\n",
    "    \n",
    "    feature_train_add = pd.concat([feature_train,future_promo_train.iloc[:,i]], axis=1)\n",
    "    feature_val_add = pd.concat([feature_val,future_promo_val.iloc[:,i]], axis=1)\n",
    "    feature_test_add = pd.concat([feature_test,future_promo_test.iloc[:,i]], axis=1)\n",
    "    \n",
    "\n",
    "    model_dl, model_info_dl = model_training_dl(feature_train_add,\n",
    "                                                target_train.iloc[:,i], \n",
    "                                                feature_val_add,\n",
    "                                                target_val.iloc[:,i],\n",
    "                                                epochs_)  \n",
    "    model_dl_all.append(model_dl)\n",
    "    model_info_dl_all.append(model_info_dl)\n",
    "    print(\"\")\n",
    "    \n",
    "end = time.time()\n",
    "print (\"Time of Training {} Deep Learning Models: {:.2f} Mins\".format(n_pred_days, (end - start) / 60))"
   ]
  },
  {
   "cell_type": "markdown",
   "metadata": {},
   "source": [
    "#### Model Prediction "
   ]
  },
  {
   "cell_type": "code",
   "execution_count": null,
   "metadata": {},
   "outputs": [],
   "source": [
    "predict_val_all_DL = predict_all(model_dl_all, feature_val, future_promo_val, val_date)\n",
    "predict_test_all_DL = predict_all(model_dl_all, feature_test, future_promo_test, test_date)"
   ]
  },
  {
   "cell_type": "markdown",
   "metadata": {},
   "source": [
    "#### Performance Evaluation"
   ]
  },
  {
   "cell_type": "code",
   "execution_count": null,
   "metadata": {},
   "outputs": [],
   "source": [
    "nwrmsle_val_DL = nwrmsle_cal(predict_val_all_DL, target_val, weight_matrix )\n",
    "rmse_val_DL = math.sqrt(mean_squared_error(predict_val_all_DL.values, target_val.values))\n",
    "smape_val_DL = smape_cal(df_train_sales, predict_val_all_DL, target_val, val_date)"
   ]
  },
  {
   "cell_type": "code",
   "execution_count": null,
   "metadata": {},
   "outputs": [],
   "source": [
    "print('NWRMSLE on Validation Data Set [DL]: {:.3f}'.format(nwrmsle_val_DL))\n",
    "print('RMSLE on Validation Data Set [DL]: {:.3f}'.format(rmse_val_DL))\n",
    "print('sMAPE on Validation Data Set [DL]: {:.1f}%'.format(smape_val_DL))"
   ]
  },
  {
   "cell_type": "markdown",
   "metadata": {},
   "source": [
    "## Method 3. LGBM Model\n",
    "\n",
    "#### Training"
   ]
  },
  {
   "cell_type": "code",
   "execution_count": null,
   "metadata": {},
   "outputs": [],
   "source": [
    "model_LGBM_all = [] # Model list for storing all 16 models\n",
    "\n",
    "feature_train_add = pd.DataFrame()\n",
    "feature_val_add = pd.DataFrame()\n",
    "feature_test_add = pd.DataFrame()\n",
    "\n",
    "start = time.time()\n",
    "\n",
    "# future_promo contains 16 days data, get the one on prediction date and use as a feature\n",
    "\n",
    "for i in range(n_pred_days): \n",
    "    \n",
    "    print(\"=\" * 50)\n",
    "    print('Training LGBM Model {} ...'.format(i))\n",
    "\n",
    "    feature_train_add = pd.concat([feature_train,future_promo_train.iloc[:,i]], axis=1)\n",
    "    feature_val_add = pd.concat([feature_val,future_promo_val.iloc[:,i]], axis=1)\n",
    "    feature_test_add = pd.concat([feature_test,future_promo_test.iloc[:,i]], axis=1)\n",
    "\n",
    "    \n",
    "    d_train = lgb.Dataset(\n",
    "        feature_train_add, label = target_train.iloc[:,i],\n",
    "        weight =  weight_matrix\n",
    "    )\n",
    "    \n",
    "    \n",
    "    d_val = lgb.Dataset(\n",
    "        feature_val_add, label = target_val.iloc[:,i],\n",
    "        reference = d_train,\n",
    "        weight =  weight_matrix\n",
    "    )\n",
    "    \n",
    "    # Set Up GBM Hyperparameter\n",
    "    params = {}\n",
    "    params['learning_rate'] = 0.05\n",
    "    params['boosting_type'] = 'gbdt'\n",
    "    params['objective'] = 'regression_l2'\n",
    "    params['metric'] = 'l2'\n",
    "    params['num_leaves'] = 80\n",
    "    params['max_depth'] = 8\n",
    "    params['min_data_in_leaf'] = 200\n",
    "    params['feature_fraction'] = 0.75\n",
    "    params[ 'bagging_fraction'] = 0.75\n",
    "    params[ 'bagging_freq'] = 1\n",
    "    params[ 'num_threads'] = 4\n",
    "\n",
    "    n_round = 1000\n",
    "\n",
    "    model = lgb.train(\n",
    "        params, \n",
    "        d_train, \n",
    "        num_boost_round=n_round,\n",
    "        valid_sets=[d_train, d_val], \n",
    "        early_stopping_rounds=100, \n",
    "        verbose_eval=100\n",
    "    )\n",
    "    \n",
    "    model_LGBM_all.append(model)\n",
    "    print(\"\")\n",
    "    \n",
    "end = time.time()\n",
    "print (\"Time of Training {} LGBM Models: {:.2f} Mins\".format(n_pred_days, (end - start) / 60))"
   ]
  },
  {
   "cell_type": "markdown",
   "metadata": {},
   "source": [
    "#### Analyzing Feature Importance"
   ]
  },
  {
   "cell_type": "code",
   "execution_count": null,
   "metadata": {},
   "outputs": [],
   "source": [
    "for i in range(0, len(model_LGBM_all)):\n",
    "    \n",
    "    print(\"=\" * 50)\n",
    "    print ('Feature Importance Report [LGBM #{}]'.format(i))\n",
    "    \n",
    "    feature_train_add = feature_train.copy()\n",
    "    feature_train_add['predict_day_promo'] = future_promo_train.iloc[:,i]\n",
    "    \n",
    "    feature_importance = pd.DataFrame(\n",
    "        sorted(zip(feature_train_add.columns, model_LGBM_all[i].feature_importance(\"gain\")),\n",
    "               key=lambda x: x[1], reverse=True), columns = ['feature', 'gain']\n",
    "    )\n",
    "    \n",
    "    print(feature_importance.to_string())\n",
    "    print(\"\")"
   ]
  },
  {
   "cell_type": "markdown",
   "metadata": {},
   "source": [
    "#### Model Prediction "
   ]
  },
  {
   "cell_type": "code",
   "execution_count": null,
   "metadata": {},
   "outputs": [],
   "source": [
    "def predict_all_LGBM (models, feature,future_promo, start_date):\n",
    "    target_predic_all = {}\n",
    "    future_date_range = pd.date_range(start_date, periods=16)\n",
    "    \n",
    "    length = len(models) \n",
    "    for i in range (0, length):   \n",
    "        feature_add = pd.concat([feature,future_promo.iloc[:,i]], axis=1)\n",
    "        target_predic = models[i].predict(feature_add,num_iteration=models[i].best_iteration)\n",
    "        target_predic_all[future_date_range[i]] = target_predic\n",
    "        target_predic_all = pd.DataFrame(target_predic_all)\n",
    "    \n",
    "    return target_predic_all\n",
    "    "
   ]
  },
  {
   "cell_type": "code",
   "execution_count": null,
   "metadata": {},
   "outputs": [],
   "source": [
    "predict_val_all_LGBM = predict_all_LGBM (model_LGBM_all, feature_val, future_promo_val, val_date)\n",
    "predict_test_all_LGBM = predict_all_LGBM (model_LGBM_all, feature_test, future_promo_test, test_date)"
   ]
  },
  {
   "cell_type": "markdown",
   "metadata": {},
   "source": [
    "#### Model Performance Evaluation"
   ]
  },
  {
   "cell_type": "code",
   "execution_count": null,
   "metadata": {},
   "outputs": [],
   "source": [
    "nwrmsle_val_LGBM = nwrmsle_cal(predict_val_all_LGBM, target_val, weight_matrix )\n",
    "rmse_val_LGBM =math.sqrt(mean_squared_error(predict_val_all_LGBM.values, target_val.values))\n",
    "smape_val_LGBM = smape_cal(df_train_sales, predict_val_all_LGBM, target_val, val_date)"
   ]
  },
  {
   "cell_type": "code",
   "execution_count": null,
   "metadata": {},
   "outputs": [],
   "source": [
    "print('NWRMSLE on Validation Data Set [LGBM]: {:.3f}'.format(nwrmsle_val_LGBM))\n",
    "print('RMSLE on Validation Data Set [LGBM]: {:.3f}'.format(rmse_val_LGBM))\n",
    "print('sMAPE on Validation Data Set [LGBM]: {:.1f}%'.format(smape_val_LGBM))"
   ]
  },
  {
   "cell_type": "markdown",
   "metadata": {},
   "source": [
    "## Data Submission\n",
    "#### Change Back from Logrithmic Scale to Linear Scale"
   ]
  },
  {
   "cell_type": "code",
   "execution_count": null,
   "metadata": {},
   "outputs": [],
   "source": [
    "y_test = np.array(predict_test_all_LGBM)\n",
    "\n",
    "df_predict = pd.DataFrame(\n",
    "    y_test, \n",
    "    index=df_train_sales.index,\n",
    "    columns=pd.date_range(test_date, periods=16)\n",
    ").stack().to_frame(\"unit_sales\")\n",
    "\n",
    "df_predict.index.set_names([\"store_nbr\", \"item_nbr\", \"date\"], inplace=True)\n",
    "df_test.set_index([\"store_nbr\", \"item_nbr\", \"date\"], inplace=True)\n",
    "\n",
    "df_sub = df_test[['id']].join(df_predict, how=\"left\").fillna(0)\n",
    "df_sub[\"unit_sales\"] = np.expm1(df_sub[\"unit_sales\"])"
   ]
  },
  {
   "cell_type": "markdown",
   "metadata": {},
   "source": [
    "#### Save Prediction Output"
   ]
  },
  {
   "cell_type": "code",
   "execution_count": null,
   "metadata": {},
   "outputs": [],
   "source": [
    "df_sub.to_csv('Submission.csv',index=None)"
   ]
  },
  {
   "cell_type": "code",
   "execution_count": null,
   "metadata": {},
   "outputs": [],
   "source": []
  }
 ],
 "metadata": {
  "kernelspec": {
   "display_name": "Python 3",
   "language": "python",
   "name": "python3"
  },
  "language_info": {
   "codemirror_mode": {
    "name": "ipython",
    "version": 3
   },
   "file_extension": ".py",
   "mimetype": "text/x-python",
   "name": "python",
   "nbconvert_exporter": "python",
   "pygments_lexer": "ipython3",
   "version": "3.6.5"
  }
 },
 "nbformat": 4,
 "nbformat_minor": 2
}
